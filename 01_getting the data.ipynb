{
 "cells": [
  {
   "cell_type": "code",
   "execution_count": 1,
   "metadata": {},
   "outputs": [],
   "source": [
    "# libraries and stuff\n",
    "import requests\n",
    "from bs4 import BeautifulSoup\n",
    "import pandas as pd\n",
    "import numpy as np\n",
    "import re\n",
    "import sys, getopt\n",
    "import csv\n",
    "import os\n",
    "import time"
   ]
  },
  {
   "cell_type": "code",
   "execution_count": 2,
   "metadata": {},
   "outputs": [],
   "source": [
    "def get_mv(page):\n",
    "    \"\"\" Get the market value table from transfermarkt\n",
    "    \n",
    "    Args:\n",
    "        page::[str]\n",
    "            the url of the page that contains the table\n",
    "    Returns:\n",
    "        season::[pandas dataframe]\n",
    "            the market value table\n",
    "    \"\"\"\n",
    "    # get the html for the page\n",
    "    headers = {'User-Agent': \n",
    "           'Mozilla/5.0 (X11; Linux x86_64) AppleWebKit/537.36 (KHTML, like Gecko) Chrome/47.0.2526.106 Safari/537.36'}\n",
    "    tree = requests.get(page, headers=headers)\n",
    "    soup = BeautifulSoup(tree.content, 'html.parser')\n",
    "    \n",
    "    # get the content of the market_value_table\n",
    "    tables = soup.findAll(\"tbody\")\n",
    "    mv_table = tables[1]\n",
    "    \n",
    "    rows = mv_table.findAll('tr')\n",
    "    season = pd.DataFrame()\n",
    "    col_list = ['team', 'squad', 'age', 'foreigners', 'total_market_value']\n",
    "\n",
    "    for i in range(len(rows)):\n",
    "        fields = rows[i].findAll('td')\n",
    "        temp_list = []\n",
    "        for field in fields:\n",
    "            a = field.text.strip().encode()\n",
    "            text = a.decode(\"utf-8\")\n",
    "            temp_list.append(text)\n",
    "        season = season.append(pd.DataFrame(np.array(temp_list[2:7]).reshape(1, -1), columns=[col_list]))\n",
    "\n",
    "    season = season.reset_index(drop=True)\n",
    "    return season"
   ]
  },
  {
   "cell_type": "code",
   "execution_count": 3,
   "metadata": {},
   "outputs": [],
   "source": [
    "# dataframe to store the final result with all season\n",
    "mv_final = pd.DataFrame()\n",
    "\n",
    "# get data for pl season 2005 to 2019\n",
    "for i in range(2005, 2020):\n",
    "    url = 'https://www.transfermarkt.co.uk/premier-league/startseite/wettbewerb/GB1/plus/?saison_id={}'.format(i)\n",
    "    temp_df = get_mv(url)\n",
    "    temp_df['season'] = i\n",
    "    mv_final = mv_final.append(temp_df)\n",
    "    time.sleep(10)\n",
    "    \n",
    "mv_final = mv_final.reset_index(drop=True)"
   ]
  },
  {
   "cell_type": "code",
   "execution_count": 6,
   "metadata": {},
   "outputs": [],
   "source": [
    "def get_standings(page):\n",
    "    \"\"\" Get the standings for a particular season from transfermarkt\n",
    "    \n",
    "    Args:\n",
    "        page::[str]\n",
    "            the url of the page that contains the table\n",
    "    Returns:\n",
    "        season::[pandas dataframe]\n",
    "            the standings\n",
    "    \"\"\"\n",
    "    # get the html for the page\n",
    "    headers = {'User-Agent': \n",
    "           'Mozilla/5.0 (X11; Linux x86_64) AppleWebKit/537.36 (KHTML, like Gecko) Chrome/47.0.2526.106 Safari/537.36'}\n",
    "    tree = requests.get(page, headers=headers)\n",
    "    soup = BeautifulSoup(tree.content, 'html.parser')\n",
    "    \n",
    "    # get the content of the market_value_table\n",
    "    tables = soup.findAll(\"tbody\")\n",
    "    standings_table = tables[3]\n",
    "    \n",
    "    rows = standings_table.findAll('tr')\n",
    "    season = pd.DataFrame()\n",
    "    col_list = ['position', 'useless', 'team', 'matches', 'gd', 'pts']\n",
    "\n",
    "    for i in range(len(rows)):\n",
    "        fields = rows[i].findAll('td')\n",
    "        temp_list = []\n",
    "        for field in fields:\n",
    "            a = field.text.strip().encode()\n",
    "            text = a.decode(\"utf-8\")\n",
    "            temp_list.append(text)\n",
    "        season = season.append(pd.DataFrame(np.array(temp_list).reshape(1, -1), columns=[col_list]))\n",
    "\n",
    "    season = season.reset_index(drop=True)\n",
    "    return season"
   ]
  },
  {
   "cell_type": "code",
   "execution_count": 7,
   "metadata": {},
   "outputs": [
    {
     "name": "stderr",
     "output_type": "stream",
     "text": [
      "C:\\Users\\MOHAMMED\\anaconda3\\lib\\site-packages\\pandas\\core\\generic.py:3936: PerformanceWarning: dropping on a non-lexsorted multi-index without a level parameter may impact performance.\n",
      "  obj = obj._drop_axis(labels, axis, level=level, errors=errors)\n"
     ]
    }
   ],
   "source": [
    "standings_final = pd.DataFrame()\n",
    "\n",
    "# get data for pl season 2005 to 2019\n",
    "for i in range(2005, 2020):\n",
    "    url = 'https://www.transfermarkt.co.uk/premier-league/startseite/wettbewerb/GB1/plus/?saison_id={}'.format(i)\n",
    "    temp_df = get_standings(url)\n",
    "    temp_df['season'] = i\n",
    "    standings_final = standings_final.append(temp_df)\n",
    "    time.sleep(10)\n",
    "\n",
    "standings_final.drop('useless', axis=1, inplace=True)\n",
    "standings_final = standings_final.reset_index(drop=True)"
   ]
  },
  {
   "cell_type": "code",
   "execution_count": 8,
   "metadata": {},
   "outputs": [],
   "source": [
    "# export to csv\n",
    "if not os.path.isdir('data'):\n",
    "    os.mkdir('data')\n",
    "\n",
    "standings_final.to_csv(\"data/pl_standings.csv\", index=False)\n",
    "mv_final.to_csv(\"data/pl_mv.csv\", index=False)"
   ]
  },
  {
   "cell_type": "code",
   "execution_count": 9,
   "metadata": {},
   "outputs": [
    {
     "name": "stdout",
     "output_type": "stream",
     "text": [
      "(300, 6)\n",
      "(300, 6)\n"
     ]
    }
   ],
   "source": [
    "print(standings_final.shape)\n",
    "print(mv_final.shape)"
   ]
  }
 ],
 "metadata": {
  "kernelspec": {
   "display_name": "Python 3",
   "language": "python",
   "name": "python3"
  },
  "language_info": {
   "codemirror_mode": {
    "name": "ipython",
    "version": 3
   },
   "file_extension": ".py",
   "mimetype": "text/x-python",
   "name": "python",
   "nbconvert_exporter": "python",
   "pygments_lexer": "ipython3",
   "version": "3.7.6"
  }
 },
 "nbformat": 4,
 "nbformat_minor": 4
}
